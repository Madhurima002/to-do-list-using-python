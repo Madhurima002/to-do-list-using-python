{
 "cells": [
  {
   "cell_type": "code",
   "execution_count": 1,
   "id": "36f22c64",
   "metadata": {},
   "outputs": [
    {
     "name": "stdout",
     "output_type": "stream",
     "text": [
      "Hi, I'm a simple chatbot. Type 'quit' to exit.\n",
      "You: hii\n",
      "ChatBot: Hey!\n",
      "You: how are you\n",
      "ChatBot: I'm a bot, I'm always good.\n",
      "You: quit\n",
      "ChatBot: Goodbye!\n"
     ]
    }
   ],
   "source": [
    "import re\n",
    "import random\n",
    "import nltk\n",
    "from nltk.chat.util import Chat, reflections\n",
    "\n",
    "class SimpleChatBot:\n",
    "    def __init__(self):\n",
    "        self.pairs = [\n",
    "            (r\"hi|hello|hey\", [\"Hello!\", \"Hi there!\", \"Hey!\"]),\n",
    "            (r\"how are you?\", [\"I'm a bot, I'm always good.\", \"Doing great!\"]),\n",
    "            (r\"what is your name?\", [\"I am a chatbot created by you.\", \"You can call me ChatBot.\"]),\n",
    "            (r\"bye|goodbye|see you\", [\"Goodbye!\", \"See you later!\", \"Bye!\"]),\n",
    "            (r\"what can you do?\", [\"I can chat with you.\", \"I can respond to your queries.\", \"I am here to keep you company.\"]),\n",
    "            (r\"how old are you?\", [\"I am ageless.\", \"I exist beyond the realm of time.\"]),\n",
    "            (r\"who created you?\", [\"I was created by a programmer.\", \"A human like you made me.\"]),\n",
    "            (r\"i need (.*)\", [\"Why do you need %1?\", \"Are you sure you need %1?\", \"It might be good to have %1.\"]),\n",
    "            (r\"i want (.*)\", [\"Why do you want %1?\", \"What would you do with %1?\", \"Are you sure you want %1?\"]),\n",
    "            (r\"quit\", [\"Bye-bye, take care!\", \"It was nice talking to you. Goodbye!\"]),\n",
    "        ]\n",
    "        self.chatbot = Chat(self.pairs, reflections)\n",
    "\n",
    "    def start_chat(self):\n",
    "        print(\"Hi, I'm a simple chatbot. Type 'quit' to exit.\")\n",
    "        while True:\n",
    "            user_input = input(\"You: \")\n",
    "            if user_input.lower() == 'quit':\n",
    "                print(\"ChatBot: Goodbye!\")\n",
    "                break\n",
    "            response = self.chatbot.respond(user_input)\n",
    "            if response:\n",
    "                print(f\"ChatBot: {response}\")\n",
    "            else:\n",
    "                print(\"ChatBot: I'm sorry, I didn't understand that.\")\n",
    "\n",
    "if __name__ == \"__main__\":\n",
    "    bot = SimpleChatBot()\n",
    "    bot.start_chat()\n"
   ]
  },
  {
   "cell_type": "code",
   "execution_count": null,
   "id": "7bb465ef",
   "metadata": {},
   "outputs": [],
   "source": []
  }
 ],
 "metadata": {
  "kernelspec": {
   "display_name": "Python 3 (ipykernel)",
   "language": "python",
   "name": "python3"
  },
  "language_info": {
   "codemirror_mode": {
    "name": "ipython",
    "version": 3
   },
   "file_extension": ".py",
   "mimetype": "text/x-python",
   "name": "python",
   "nbconvert_exporter": "python",
   "pygments_lexer": "ipython3",
   "version": "3.11.3"
  }
 },
 "nbformat": 4,
 "nbformat_minor": 5
}
